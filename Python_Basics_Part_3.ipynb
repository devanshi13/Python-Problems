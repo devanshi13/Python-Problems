{
  "nbformat": 4,
  "nbformat_minor": 0,
  "metadata": {
    "colab": {
      "name": "Python Basics - Part 3.ipynb",
      "provenance": [],
      "collapsed_sections": []
    },
    "kernelspec": {
      "name": "python3",
      "display_name": "Python 3"
    }
  },
  "cells": [
    {
      "cell_type": "markdown",
      "metadata": {
        "id": "_v2XP4bKrvxV"
      },
      "source": [
        "## **Functions and Arguments**"
      ]
    },
    {
      "cell_type": "markdown",
      "metadata": {
        "id": "4l5bX44qr8Rm"
      },
      "source": [
        "### **1. Functions**"
      ]
    },
    {
      "cell_type": "code",
      "metadata": {
        "id": "PQBpbVt1qKAR",
        "colab": {
          "base_uri": "https://localhost:8080/"
        },
        "outputId": "7cfc8a13-3d08-41ec-e3b2-af6c6243e5b6"
      },
      "source": [
        "## function syntax -\n",
        "# def function_name(parameters):\n",
        "# statements \n",
        "# function_name(value)\n",
        "\n",
        "\n",
        "def even_odd(num):\n",
        "  if (num%2==0):\n",
        "    print(\"Number is even\")\n",
        "  else:\n",
        "    print(\"Number is odd\")\n",
        "even_odd(25)"
      ],
      "execution_count": null,
      "outputs": [
        {
          "output_type": "stream",
          "text": [
            "Number is odd\n"
          ],
          "name": "stdout"
        }
      ]
    },
    {
      "cell_type": "code",
      "metadata": {
        "id": "bb6sbLNeqgSg",
        "colab": {
          "base_uri": "https://localhost:8080/"
        },
        "outputId": "016458f6-32e7-4910-b8dd-a92063bde295"
      },
      "source": [
        "# print vs return\n",
        "def print_sent():\n",
        "  return \"Hello, Welcome to 2021\"\n",
        "val = print_sent()\n",
        "print(val)"
      ],
      "execution_count": null,
      "outputs": [
        {
          "output_type": "stream",
          "text": [
            "Hello, Welcome to 2021\n"
          ],
          "name": "stdout"
        }
      ]
    },
    {
      "cell_type": "code",
      "metadata": {
        "id": "kZWDjRJVq5vi"
      },
      "source": [
        "def add_num(num1,num2):\n",
        "  return num1+num2\n",
        "val = add_num(1998,1999)"
      ],
      "execution_count": null,
      "outputs": []
    },
    {
      "cell_type": "code",
      "metadata": {
        "id": "AdH6fg_UrWs5",
        "colab": {
          "base_uri": "https://localhost:8080/"
        },
        "outputId": "44314421-812f-4869-a1b2-c1a4de93b22a"
      },
      "source": [
        "val"
      ],
      "execution_count": null,
      "outputs": [
        {
          "output_type": "execute_result",
          "data": {
            "text/plain": [
              "3997"
            ]
          },
          "metadata": {
            "tags": []
          },
          "execution_count": 6
        }
      ]
    },
    {
      "cell_type": "markdown",
      "metadata": {
        "id": "pQV5zbPmr2Zq"
      },
      "source": [
        "### **2. Positional and Keyword Arguments**"
      ]
    },
    {
      "cell_type": "code",
      "metadata": {
        "id": "RCcpkWRgrYR-",
        "colab": {
          "base_uri": "https://localhost:8080/"
        },
        "outputId": "13b5bd4b-324a-461d-f679-14e72d6de463"
      },
      "source": [
        "# positional and keyword arguments\n",
        "def personal_info(name,age=20):\n",
        "  print(\"My name is {} and age is {}\".format(name,age))\n",
        "personal_info('Devanshi')\n",
        "#here name is positional argument \n",
        "#age is keyword argument"
      ],
      "execution_count": null,
      "outputs": [
        {
          "output_type": "stream",
          "text": [
            "My name is Devanshi and age is 20\n"
          ],
          "name": "stdout"
        }
      ]
    },
    {
      "cell_type": "code",
      "metadata": {
        "colab": {
          "base_uri": "https://localhost:8080/"
        },
        "id": "-8gnnVAQpKGY",
        "outputId": "db4124d3-99c3-4c5f-f394-7b3bd29e953f"
      },
      "source": [
        "personal_info(11)"
      ],
      "execution_count": null,
      "outputs": [
        {
          "output_type": "stream",
          "text": [
            "My name is 11 and age is 20\n"
          ],
          "name": "stdout"
        }
      ]
    },
    {
      "cell_type": "code",
      "metadata": {
        "id": "GXasRF-PskdZ",
        "colab": {
          "base_uri": "https://localhost:8080/"
        },
        "outputId": "4fecf907-79a5-47fa-9814-20e0c380e060"
      },
      "source": [
        "# default arguments\n",
        "def print_info(name,age=20):\n",
        "  print(\"My name is {} and age is {}\".format(name,age))\n",
        "personal_info('Devanshi')\n",
        "personal_info('Swati',27)"
      ],
      "execution_count": null,
      "outputs": [
        {
          "output_type": "stream",
          "text": [
            "My name is Devanshi and age is 20\n",
            "My name is Swati and age is 27\n"
          ],
          "name": "stdout"
        }
      ]
    },
    {
      "cell_type": "code",
      "metadata": {
        "id": "OIYaiesg3U1Z",
        "colab": {
          "base_uri": "https://localhost:8080/"
        },
        "outputId": "e033c2ec-9e3e-459a-c697-652d9c790cdf"
      },
      "source": [
        "# variable length arguments\n",
        "def print_numbers(arg1, *vartuple):\n",
        "  print(\"Output is:\")\n",
        "  print(arg1)\n",
        "  for var in vartuple:\n",
        "    print(\"Other numbers are:\")\n",
        "    print(var)\n",
        "print_numbers(10)\n",
        "print_numbers(20,30,40)"
      ],
      "execution_count": null,
      "outputs": [
        {
          "output_type": "stream",
          "text": [
            "Output is:\n",
            "10\n",
            "Output is:\n",
            "20\n",
            "Other numbers are:\n",
            "30\n",
            "Other numbers are:\n",
            "40\n"
          ],
          "name": "stdout"
        }
      ]
    },
    {
      "cell_type": "code",
      "metadata": {
        "id": "K-ttq2sY31Qh",
        "colab": {
          "base_uri": "https://localhost:8080/"
        },
        "outputId": "b81ee6e8-e2b1-427b-df87-9eb36bbeff22"
      },
      "source": [
        "# positional and keyword arguments\n",
        "def hello(*args,**kwargs):\n",
        "  print(args)\n",
        "  print(kwargs)\n",
        "hello('Devanshi','Gupta', age = 20, dob = 1999)"
      ],
      "execution_count": null,
      "outputs": [
        {
          "output_type": "stream",
          "text": [
            "('Devanshi', 'Gupta')\n",
            "{'age': 20, 'dob': 1999}\n"
          ],
          "name": "stdout"
        }
      ]
    },
    {
      "cell_type": "code",
      "metadata": {
        "id": "Hk9wWvCN4wK5",
        "colab": {
          "base_uri": "https://localhost:8080/"
        },
        "outputId": "81996aea-0021-4b97-a4dd-adf8ef38fcb8"
      },
      "source": [
        "lst = ['Devanshi','Gupta']\n",
        "dict_args = {'age' : 20, 'dob' : 1999}\n",
        "hello(lst,dict_args)"
      ],
      "execution_count": null,
      "outputs": [
        {
          "output_type": "stream",
          "text": [
            "(['Devanshi', 'Gupta'], {'age': 20, 'dob': 1999})\n",
            "{}\n"
          ],
          "name": "stdout"
        }
      ]
    },
    {
      "cell_type": "code",
      "metadata": {
        "id": "wC43YqqK5Isy",
        "colab": {
          "base_uri": "https://localhost:8080/"
        },
        "outputId": "f386adcd-5873-4520-9043-59d367d30198"
      },
      "source": [
        "lst = [1,2,3,4,5,6]\n",
        "def print_sum(lst):\n",
        "  even_sum = 0\n",
        "  odd_sum = 0\n",
        "  for i in lst:\n",
        "    if i%2==0:\n",
        "      even_sum = even_sum+i\n",
        "    else:\n",
        "      odd_sum = odd_sum+i\n",
        "  print(\"even sum\", even_sum)\n",
        "  print(\"odd sum\", odd_sum)\n",
        "print_sum(lst)"
      ],
      "execution_count": null,
      "outputs": [
        {
          "output_type": "stream",
          "text": [
            "even sum 12\n",
            "odd sum 9\n"
          ],
          "name": "stdout"
        }
      ]
    },
    {
      "cell_type": "markdown",
      "metadata": {
        "id": "6gtzeDk9skcM"
      },
      "source": [
        "### **3. Lambda Functions**"
      ]
    },
    {
      "cell_type": "code",
      "metadata": {
        "id": "sICiqHHd6saQ",
        "colab": {
          "base_uri": "https://localhost:8080/"
        },
        "outputId": "3686c40c-6116-4691-84d7-3b609ddb642f"
      },
      "source": [
        "### Lambda Function : anonymous function\n",
        "even = lambda a:a%2==0\n",
        "even(25)\n",
        " \n",
        "\n",
        "# lambda inp1,inp2 : cond1"
      ],
      "execution_count": null,
      "outputs": [
        {
          "output_type": "execute_result",
          "data": {
            "text/plain": [
              "False"
            ]
          },
          "metadata": {
            "tags": []
          },
          "execution_count": 16
        }
      ]
    },
    {
      "cell_type": "code",
      "metadata": {
        "id": "m-C3tl5e8st8",
        "colab": {
          "base_uri": "https://localhost:8080/"
        },
        "outputId": "b36b2078-94ad-411b-9fe6-0d048c87618c"
      },
      "source": [
        "addition = lambda a,b: a+b\n",
        "addition(25,64)"
      ],
      "execution_count": null,
      "outputs": [
        {
          "output_type": "execute_result",
          "data": {
            "text/plain": [
              "89"
            ]
          },
          "metadata": {
            "tags": []
          },
          "execution_count": 17
        }
      ]
    },
    {
      "cell_type": "markdown",
      "metadata": {
        "id": "0rsr1S8RspG7"
      },
      "source": [
        "### **4. Map Function**"
      ]
    },
    {
      "cell_type": "code",
      "metadata": {
        "id": "yW2q1GOq80kK",
        "colab": {
          "base_uri": "https://localhost:8080/"
        },
        "outputId": "0e358001-c82b-4839-f606-9b45760471e7"
      },
      "source": [
        "### Map Function\n",
        "def even_odd(num):\n",
        "  if(num%2==0):\n",
        "    print(num, \"The number is even\")\n",
        "  else:\n",
        "    print(num, \"The number is odd\")\n",
        "lst = [1,2,3,4,5,6,7,8,9,10]\n",
        "list(map(even_odd, lst))"
      ],
      "execution_count": null,
      "outputs": [
        {
          "output_type": "stream",
          "text": [
            "1 The number is odd\n",
            "2 The number is even\n",
            "3 The number is odd\n",
            "4 The number is even\n",
            "5 The number is odd\n",
            "6 The number is even\n",
            "7 The number is odd\n",
            "8 The number is even\n",
            "9 The number is odd\n",
            "10 The number is even\n"
          ],
          "name": "stdout"
        },
        {
          "output_type": "execute_result",
          "data": {
            "text/plain": [
              "[None, None, None, None, None, None, None, None, None, None]"
            ]
          },
          "metadata": {
            "tags": []
          },
          "execution_count": 18
        }
      ]
    },
    {
      "cell_type": "markdown",
      "metadata": {
        "id": "rfR3GPo2ssic"
      },
      "source": [
        "### **5. Filter Function**"
      ]
    },
    {
      "cell_type": "code",
      "metadata": {
        "id": "IyvmNXbVAf5Y",
        "colab": {
          "base_uri": "https://localhost:8080/"
        },
        "outputId": "963965fb-2ab9-498a-bdb9-2d5e00590459"
      },
      "source": [
        "### FILTER function\n",
        "def even(num):\n",
        "  if (num%2==0):\n",
        "    return True\n",
        "lst = [0,1,2,3,4,5,6,7,8,9]\n",
        "list(filter(even,lst))"
      ],
      "execution_count": null,
      "outputs": [
        {
          "output_type": "execute_result",
          "data": {
            "text/plain": [
              "[0, 2, 4, 6, 8]"
            ]
          },
          "metadata": {
            "tags": []
          },
          "execution_count": 19
        }
      ]
    },
    {
      "cell_type": "code",
      "metadata": {
        "id": "6fI9snLQBxwq",
        "colab": {
          "base_uri": "https://localhost:8080/"
        },
        "outputId": "ac964045-0ff8-435e-9427-303e5fafbdbf"
      },
      "source": [
        "list(filter(lambda num:num%2==0, lst))"
      ],
      "execution_count": null,
      "outputs": [
        {
          "output_type": "execute_result",
          "data": {
            "text/plain": [
              "[0, 2, 4, 6, 8]"
            ]
          },
          "metadata": {
            "tags": []
          },
          "execution_count": 20
        }
      ]
    },
    {
      "cell_type": "markdown",
      "metadata": {
        "id": "RsboaXr7swFS"
      },
      "source": [
        "### **6. List Comprehension**"
      ]
    },
    {
      "cell_type": "code",
      "metadata": {
        "id": "G4Z23mrqCTF7",
        "colab": {
          "base_uri": "https://localhost:8080/",
          "height": 34
        },
        "outputId": "6d2b7fe3-3ebb-4f1e-84a2-3a0e1a644d78"
      },
      "source": [
        "### List Comprehension\n",
        "### provides concise way to create a list\n",
        "lst1 = []\n",
        "def list_square(lst):\n",
        "  for i in lst:\n",
        "    lst1.append(i*i)\n",
        "  return lst1\n",
        "list_square([1,2,3,4,5])\n",
        "### here we have used for loop and other lines of code which increases time complexity\n"
      ],
      "execution_count": null,
      "outputs": [
        {
          "output_type": "execute_result",
          "data": {
            "text/plain": [
              "[1, 4, 9, 16, 25]"
            ]
          },
          "metadata": {
            "tags": []
          },
          "execution_count": 19
        }
      ]
    },
    {
      "cell_type": "code",
      "metadata": {
        "id": "SZf93jW9DMgG",
        "colab": {
          "base_uri": "https://localhost:8080/"
        },
        "outputId": "1c4974c3-7bee-4c69-f565-85ffa2e8addd"
      },
      "source": [
        "### list comprehension\n",
        "lst = [1,2,3,4,5]\n",
        "lst1 = [i*i for i in lst]\n",
        "print(lst1)"
      ],
      "execution_count": null,
      "outputs": [
        {
          "output_type": "stream",
          "text": [
            "[1, 4, 9, 16, 25]\n"
          ],
          "name": "stdout"
        }
      ]
    },
    {
      "cell_type": "code",
      "metadata": {
        "id": "52i3dWuFD3fm",
        "colab": {
          "base_uri": "https://localhost:8080/"
        },
        "outputId": "0f1dd460-3b50-4d52-adec-44dfb946ec31"
      },
      "source": [
        "lst1 = [i*i for i in lst if (i%2==0)]\n",
        "print(lst1)"
      ],
      "execution_count": null,
      "outputs": [
        {
          "output_type": "stream",
          "text": [
            "[4, 16]\n"
          ],
          "name": "stdout"
        }
      ]
    },
    {
      "cell_type": "markdown",
      "metadata": {
        "id": "azIQv5yws1cA"
      },
      "source": [
        "### **7. Iterable and Iterator**"
      ]
    },
    {
      "cell_type": "code",
      "metadata": {
        "id": "Quy1soiGSvjB",
        "colab": {
          "base_uri": "https://localhost:8080/"
        },
        "outputId": "eb5e11b0-1fb1-4316-8e3b-eaeb144a1712"
      },
      "source": [
        "#Iterable and Iterator\n",
        "#List is iterable\n",
        "lst = [1,2,3,4,5,6,7]\n",
        "for i in lst:\n",
        "  print(i)"
      ],
      "execution_count": null,
      "outputs": [
        {
          "output_type": "stream",
          "text": [
            "1\n",
            "2\n",
            "3\n",
            "4\n",
            "5\n",
            "6\n",
            "7\n"
          ],
          "name": "stdout"
        }
      ]
    },
    {
      "cell_type": "code",
      "metadata": {
        "id": "5NVzhbhCa1nC"
      },
      "source": [
        "#iterator (we can convert a list(iterable) into iterator using keyword iter)\n",
        "lst1 = iter(lst)"
      ],
      "execution_count": null,
      "outputs": []
    },
    {
      "cell_type": "code",
      "metadata": {
        "id": "FK0DAjfi7YjN",
        "colab": {
          "base_uri": "https://localhost:8080/"
        },
        "outputId": "364214c3-7494-4eb0-b12c-edc62f74cec1"
      },
      "source": [
        "next(lst1)"
      ],
      "execution_count": null,
      "outputs": [
        {
          "output_type": "execute_result",
          "data": {
            "text/plain": [
              "2"
            ]
          },
          "metadata": {
            "tags": []
          },
          "execution_count": 30
        }
      ]
    },
    {
      "cell_type": "code",
      "metadata": {
        "id": "hQswx5dG7aGN",
        "colab": {
          "base_uri": "https://localhost:8080/"
        },
        "outputId": "8b41fa8b-8dad-4ff3-ceae-5235ae6c9cfc"
      },
      "source": [
        "for i in lst1:\n",
        "  print(i)"
      ],
      "execution_count": null,
      "outputs": [
        {
          "output_type": "stream",
          "text": [
            "3\n",
            "4\n",
            "5\n",
            "6\n",
            "7\n"
          ],
          "name": "stdout"
        }
      ]
    },
    {
      "cell_type": "markdown",
      "metadata": {
        "id": "NM45Yn6Es75e"
      },
      "source": [
        "### **8. Pass By Value**"
      ]
    },
    {
      "cell_type": "code",
      "metadata": {
        "id": "3gMi6OBx7hqd",
        "colab": {
          "base_uri": "https://localhost:8080/"
        },
        "outputId": "9fe9f2af-c3a5-43a6-f417-bf74705d48f4"
      },
      "source": [
        "# Pass by value\n",
        "def PassByValue(lst):\n",
        "  lst = [1,2,3,4,5]\n",
        "  print(\"Before Change : \",lst)\n",
        "lst = [10,20,30,40,50]\n",
        "PassByValue(lst)\n",
        "print(\"after Change : \",lst)"
      ],
      "execution_count": null,
      "outputs": [
        {
          "output_type": "stream",
          "text": [
            "Before Change :  [1, 2, 3, 4, 5]\n",
            "after Change :  [10, 20, 30, 40, 50]\n"
          ],
          "name": "stdout"
        }
      ]
    },
    {
      "cell_type": "markdown",
      "metadata": {
        "id": "lTwlnFmgs_KR"
      },
      "source": [
        "### **9. Pass By Reference**"
      ]
    },
    {
      "cell_type": "code",
      "metadata": {
        "id": "NZJdQKDvC9ka",
        "colab": {
          "base_uri": "https://localhost:8080/"
        },
        "outputId": "c318fddd-dc6e-4cb1-a02f-69a7b8d3d32c"
      },
      "source": [
        "# Pass By Reference\n",
        "def PassByReference(lst):\n",
        "  lst[2]=30\n",
        "  print(\"Inside Function : \",lst)\n",
        "lst = [1,2,3,4,5]\n",
        "print(\"Before Change : \",lst)\n",
        "PassByReference(lst)\n",
        "print(\"After Change : \",lst)"
      ],
      "execution_count": null,
      "outputs": [
        {
          "output_type": "stream",
          "text": [
            "Before Change :  [1, 2, 3, 4, 5]\n",
            "Inside Function :  [1, 2, 30, 4, 5]\n",
            "After Change :  [1, 2, 30, 4, 5]\n"
          ],
          "name": "stdout"
        }
      ]
    },
    {
      "cell_type": "markdown",
      "metadata": {
        "id": "-2ad2e70tCWp"
      },
      "source": [
        "### **10. Global Variable and Local Variable**"
      ]
    },
    {
      "cell_type": "code",
      "metadata": {
        "id": "I_MzeESxDjRd",
        "colab": {
          "base_uri": "https://localhost:8080/"
        },
        "outputId": "de39e3f5-7090-49e6-e9dd-851a1372d267"
      },
      "source": [
        "# Global Variable vs Local Variable\n",
        "total = 0\n",
        "t1 = 100\n",
        "def add(args1, args2):\n",
        "  total = args1+args2\n",
        "  print(\"Inside Function : \",total)\n",
        "  print(\"Gloabl Variable accesed inside function : \",t1)\n",
        "add(70,90)\n",
        "print(\"Outside Function : \",total)"
      ],
      "execution_count": null,
      "outputs": [
        {
          "output_type": "stream",
          "text": [
            "Inside Function :  160\n",
            "Gloabl Variable accesed inside function :  100\n",
            "Outside Function :  0\n"
          ],
          "name": "stdout"
        }
      ]
    },
    {
      "cell_type": "code",
      "metadata": {
        "id": "rp5z3ZSRzsM8"
      },
      "source": [
        ""
      ],
      "execution_count": null,
      "outputs": []
    }
  ]
}